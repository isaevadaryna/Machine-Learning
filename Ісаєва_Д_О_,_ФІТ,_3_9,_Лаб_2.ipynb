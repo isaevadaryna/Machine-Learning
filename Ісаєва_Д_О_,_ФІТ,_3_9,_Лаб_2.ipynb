{
  "nbformat": 4,
  "nbformat_minor": 0,
  "metadata": {
    "colab": {
      "provenance": [],
      "authorship_tag": "ABX9TyMymrYoiHydjDqPLd/sI2Nt",
      "include_colab_link": true
    },
    "kernelspec": {
      "name": "python3",
      "display_name": "Python 3"
    },
    "language_info": {
      "name": "python"
    }
  },
  "cells": [
    {
      "cell_type": "markdown",
      "metadata": {
        "id": "view-in-github",
        "colab_type": "text"
      },
      "source": [
        "<a href=\"https://colab.research.google.com/github/isaevadaryna/Machine-Learning/blob/main/%D0%86%D1%81%D0%B0%D1%94%D0%B2%D0%B0_%D0%94_%D0%9E_%2C_%D0%A4%D0%86%D0%A2%2C_3_9%2C_%D0%9B%D0%B0%D0%B1_2.ipynb\" target=\"_parent\"><img src=\"https://colab.research.google.com/assets/colab-badge.svg\" alt=\"Open In Colab\"/></a>"
      ]
    },
    {
      "cell_type": "code",
      "execution_count": 1,
      "metadata": {
        "id": "5e1rACr6Ii2E"
      },
      "outputs": [],
      "source": [
        "import numpy as np"
      ]
    },
    {
      "cell_type": "markdown",
      "source": [
        "1. Знайти вектор, що складається з перших п'яти натуральних чисел"
      ],
      "metadata": {
        "id": "RgIi9rR2Iop3"
      }
    },
    {
      "cell_type": "code",
      "source": [
        "vector = np.array([1, 2, 3, 4, 5])\n",
        "\n",
        "vector"
      ],
      "metadata": {
        "colab": {
          "base_uri": "https://localhost:8080/"
        },
        "id": "gB5U8IGTIuv_",
        "outputId": "26c1f511-4295-4495-f54e-68dfebe1b5a0"
      },
      "execution_count": 2,
      "outputs": [
        {
          "output_type": "execute_result",
          "data": {
            "text/plain": [
              "array([1, 2, 3, 4, 5])"
            ]
          },
          "metadata": {},
          "execution_count": 2
        }
      ]
    },
    {
      "cell_type": "markdown",
      "source": [
        "2. Транспонувати вектор"
      ],
      "metadata": {
        "id": "6I3dPUT6I_pr"
      }
    },
    {
      "cell_type": "code",
      "source": [
        "v1 = np.matrix([1, 2, 3, 4, 5])\n",
        "\n",
        "print(v1)\n",
        "v2 = v1.T\n",
        "v2"
      ],
      "metadata": {
        "colab": {
          "base_uri": "https://localhost:8080/"
        },
        "id": "uNMX5hJ7I1Pj",
        "outputId": "90eb496d-f131-42dd-aa9a-e859324ccb58"
      },
      "execution_count": 3,
      "outputs": [
        {
          "output_type": "stream",
          "name": "stdout",
          "text": [
            "[[1 2 3 4 5]]\n"
          ]
        },
        {
          "output_type": "execute_result",
          "data": {
            "text/plain": [
              "matrix([[1],\n",
              "        [2],\n",
              "        [3],\n",
              "        [4],\n",
              "        [5]])"
            ]
          },
          "metadata": {},
          "execution_count": 3
        }
      ]
    },
    {
      "cell_type": "markdown",
      "source": [
        "3. напишіть функцію, яка перевертає вектор у зворотньому напрямку"
      ],
      "metadata": {
        "id": "9X1-uTW8J-Nf"
      }
    },
    {
      "cell_type": "code",
      "source": [
        "v = np.array([1, 2, 3, 4, 5])\n",
        "\n",
        "print(v[::-1])"
      ],
      "metadata": {
        "colab": {
          "base_uri": "https://localhost:8080/"
        },
        "id": "Lkvy-dutJeGG",
        "outputId": "322c06fc-7891-418d-b054-41e49027cc9b"
      },
      "execution_count": 5,
      "outputs": [
        {
          "output_type": "stream",
          "name": "stdout",
          "text": [
            "[5 4 3 2 1]\n"
          ]
        }
      ]
    },
    {
      "cell_type": "code",
      "source": [
        "v = np.flip(v)\n",
        "\n",
        "print(v)"
      ],
      "metadata": {
        "colab": {
          "base_uri": "https://localhost:8080/"
        },
        "id": "pynvoDc0J0CD",
        "outputId": "bba4cb51-6d02-47c9-8cf0-038c1ef62f92"
      },
      "execution_count": 7,
      "outputs": [
        {
          "output_type": "stream",
          "name": "stdout",
          "text": [
            "[5 4 3 2 1]\n"
          ]
        }
      ]
    },
    {
      "cell_type": "markdown",
      "source": [
        "4. Обчислити середнє значення вектора"
      ],
      "metadata": {
        "id": "jBJETPrnKR7L"
      }
    },
    {
      "cell_type": "code",
      "source": [
        "print(np.mean(v))"
      ],
      "metadata": {
        "colab": {
          "base_uri": "https://localhost:8080/"
        },
        "id": "qUwzo9QIKLmD",
        "outputId": "01e8a02c-6abc-4b85-e810-7d757106c4aa"
      },
      "execution_count": 8,
      "outputs": [
        {
          "output_type": "stream",
          "name": "stdout",
          "text": [
            "3.0\n"
          ]
        }
      ]
    },
    {
      "cell_type": "markdown",
      "source": [
        "5. Знайти найбільший і найменший елемент вектора"
      ],
      "metadata": {
        "id": "pyyiW4JVKW2a"
      }
    },
    {
      "cell_type": "code",
      "source": [
        "print(np.max(v))\n",
        "print(np.min(v))"
      ],
      "metadata": {
        "colab": {
          "base_uri": "https://localhost:8080/"
        },
        "id": "RUIzw0NQK-3w",
        "outputId": "ae149d53-d4cd-444a-f200-73c273364c47"
      },
      "execution_count": 9,
      "outputs": [
        {
          "output_type": "stream",
          "name": "stdout",
          "text": [
            "5\n",
            "1\n"
          ]
        }
      ]
    },
    {
      "cell_type": "markdown",
      "source": [
        "6. Обчислити скалярний добуток двох векторів"
      ],
      "metadata": {
        "id": "qC90LGPZLFbT"
      }
    },
    {
      "cell_type": "code",
      "source": [
        "v1 = np.array ([1, 2, 3])\n",
        "v2 = np.array([4, 5, 6])\n",
        "\n",
        "print(np.dot(v1, v2))\n",
        "print(v1*v2)"
      ],
      "metadata": {
        "colab": {
          "base_uri": "https://localhost:8080/"
        },
        "id": "BfOjyA4yLKrj",
        "outputId": "9eae3877-58f3-47ca-e10d-1f48b7eb8f53"
      },
      "execution_count": 10,
      "outputs": [
        {
          "output_type": "stream",
          "name": "stdout",
          "text": [
            "32\n",
            "[ 4 10 18]\n"
          ]
        }
      ]
    },
    {
      "cell_type": "markdown",
      "source": [
        "7. Напишіть фкнкцію, яка нормалізує вектор"
      ],
      "metadata": {
        "id": "oD1ZWaCbMs2V"
      }
    },
    {
      "cell_type": "code",
      "source": [
        "v = np.array([1, 2, 3, 4, 5])\n",
        "norm = np.linalg.norm(v)\n",
        "\n",
        "print (norm)\n",
        "\n",
        "v/norm"
      ],
      "metadata": {
        "colab": {
          "base_uri": "https://localhost:8080/"
        },
        "id": "51GPp729MeAn",
        "outputId": "dcc052f5-a9ef-4687-a36c-793ea9b0f318"
      },
      "execution_count": 11,
      "outputs": [
        {
          "output_type": "stream",
          "name": "stdout",
          "text": [
            "7.416198487095663\n"
          ]
        },
        {
          "output_type": "execute_result",
          "data": {
            "text/plain": [
              "array([0.13483997, 0.26967994, 0.40451992, 0.53935989, 0.67419986])"
            ]
          },
          "metadata": {},
          "execution_count": 11
        }
      ]
    },
    {
      "cell_type": "markdown",
      "source": [
        "8. Задайте два вектораю Визначте, чи є вони ортогональнимию"
      ],
      "metadata": {
        "id": "ckJizwd6M0xZ"
      }
    },
    {
      "cell_type": "code",
      "source": [
        "v1 = np.array([1, 0, 0])\n",
        "v2 = np.array([0, 1, 0])\n",
        "\n",
        "np.dot(v1, v2)"
      ],
      "metadata": {
        "colab": {
          "base_uri": "https://localhost:8080/"
        },
        "id": "vBITb3fPMzpy",
        "outputId": "5eec1bc7-4cbb-45d5-ae1f-703d5a2e2064"
      },
      "execution_count": 13,
      "outputs": [
        {
          "output_type": "execute_result",
          "data": {
            "text/plain": [
              "np.int64(0)"
            ]
          },
          "metadata": {},
          "execution_count": 13
        }
      ]
    },
    {
      "cell_type": "markdown",
      "source": [
        "9. Визначити унікальні елементи вектора"
      ],
      "metadata": {
        "id": "gpyptnbjNrwy"
      }
    },
    {
      "cell_type": "code",
      "source": [
        "v = np.array([1, 2, 3, 4, 5, 3])\n",
        "\n",
        "np.unique(v)"
      ],
      "metadata": {
        "colab": {
          "base_uri": "https://localhost:8080/"
        },
        "id": "2EZ9Yom6NbNt",
        "outputId": "e3d95449-5891-4081-f8df-b7c97b6e5958"
      },
      "execution_count": 14,
      "outputs": [
        {
          "output_type": "execute_result",
          "data": {
            "text/plain": [
              "array([1, 2, 3, 4, 5])"
            ]
          },
          "metadata": {},
          "execution_count": 14
        }
      ]
    },
    {
      "cell_type": "markdown",
      "source": [
        "10. Знайти вектори"
      ],
      "metadata": {
        "id": "iXskv_VzNyAX"
      }
    },
    {
      "cell_type": "code",
      "source": [
        "v1 = np.array([1, 2, 3])\n",
        "v2 = np.array([4, 5, 6])\n",
        "\n",
        "print(v1 - v2)\n",
        "print(v2 - v1)\n",
        "print(v1 + v2)\n",
        "print(v2 + v1)\n",
        "print(v1 * v2)\n",
        "print(v2 * v1)\n",
        "print(v1 / v2)\n",
        "print(v2 / v1)"
      ],
      "metadata": {
        "colab": {
          "base_uri": "https://localhost:8080/"
        },
        "id": "gQkMfjgEN10I",
        "outputId": "1c56abdd-88d0-448a-b054-7c5a04ff401d"
      },
      "execution_count": 15,
      "outputs": [
        {
          "output_type": "stream",
          "name": "stdout",
          "text": [
            "[-3 -3 -3]\n",
            "[3 3 3]\n",
            "[5 7 9]\n",
            "[5 7 9]\n",
            "[ 4 10 18]\n",
            "[ 4 10 18]\n",
            "[0.25 0.4  0.5 ]\n",
            "[4.  2.5 2. ]\n"
          ]
        }
      ]
    },
    {
      "cell_type": "markdown",
      "source": [
        "11. Перевірити чи дорівнює довжина вектора 5"
      ],
      "metadata": {
        "id": "-ClE9smWPWFn"
      }
    },
    {
      "cell_type": "code",
      "source": [
        "vector = np.array([1, 2, 3, 4, 5])\n",
        "lenght = np.linalg.norm(vector)\n",
        "\n",
        "np.isclose(lenght, 5)"
      ],
      "metadata": {
        "colab": {
          "base_uri": "https://localhost:8080/"
        },
        "id": "R8N8RwfTPWeH",
        "outputId": "112ac3b1-9c38-4e62-99a1-6adfdcb64331"
      },
      "execution_count": 16,
      "outputs": [
        {
          "output_type": "execute_result",
          "data": {
            "text/plain": [
              "np.False_"
            ]
          },
          "metadata": {},
          "execution_count": 16
        }
      ]
    },
    {
      "cell_type": "markdown",
      "source": [
        "12. Задати матрицю, заповнену випадковими числами"
      ],
      "metadata": {
        "id": "IRoKqduXPxox"
      }
    },
    {
      "cell_type": "code",
      "source": [
        "a = np.random.randint(0, 11, (3, 3))\n",
        "a"
      ],
      "metadata": {
        "colab": {
          "base_uri": "https://localhost:8080/"
        },
        "id": "3o73SJ_jPyxx",
        "outputId": "a47101c6-9768-4a81-bc81-d7a53cbfb90d"
      },
      "execution_count": 17,
      "outputs": [
        {
          "output_type": "execute_result",
          "data": {
            "text/plain": [
              "array([[0, 7, 1],\n",
              "       [8, 0, 1],\n",
              "       [1, 0, 4]])"
            ]
          },
          "metadata": {},
          "execution_count": 17
        }
      ]
    },
    {
      "cell_type": "markdown",
      "source": [
        "13. Обчислити визначник матриці"
      ],
      "metadata": {
        "id": "JmO2Hf7cQGmm"
      }
    },
    {
      "cell_type": "code",
      "source": [
        "np.linalg.det(a)"
      ],
      "metadata": {
        "colab": {
          "base_uri": "https://localhost:8080/"
        },
        "id": "Y2ra8pEIQJTe",
        "outputId": "84ddcef8-e895-4429-c9ed-6cc5d58dba49"
      },
      "execution_count": 18,
      "outputs": [
        {
          "output_type": "execute_result",
          "data": {
            "text/plain": [
              "np.float64(-216.99999999999986)"
            ]
          },
          "metadata": {},
          "execution_count": 18
        }
      ]
    },
    {
      "cell_type": "markdown",
      "source": [
        "14. Знаходження оберненої матриці"
      ],
      "metadata": {
        "id": "CRd8anH2RCbE"
      }
    },
    {
      "cell_type": "code",
      "source": [
        "np.linalg.inv(a)"
      ],
      "metadata": {
        "colab": {
          "base_uri": "https://localhost:8080/"
        },
        "id": "iBmMYTqZRCnr",
        "outputId": "832ab0b5-bc25-4fb3-84c4-9aebf8631910"
      },
      "execution_count": 19,
      "outputs": [
        {
          "output_type": "execute_result",
          "data": {
            "text/plain": [
              "array([[ 0.        ,  0.12903226, -0.03225806],\n",
              "       [ 0.14285714,  0.00460829, -0.03686636],\n",
              "       [ 0.        , -0.03225806,  0.25806452]])"
            ]
          },
          "metadata": {},
          "execution_count": 19
        }
      ]
    },
    {
      "cell_type": "markdown",
      "source": [
        "15. Розв'яжіть систему лінійних рівнянь"
      ],
      "metadata": {
        "id": "kUzqxhXARPDk"
      }
    },
    {
      "cell_type": "code",
      "source": [
        "a = np.array([[1, 3, -4], [0, 2, -3], [-2, 2, 5]])\n",
        "b = np.array([5, 3, 4])\n",
        "\n",
        "x = np.linalg.solve(a, b)\n",
        "print(x)\n",
        "\n",
        "inv_a = np.linalg.inv(a)\n",
        "x1 = inv_a.dot(b)\n",
        "print(x1)"
      ],
      "metadata": {
        "colab": {
          "base_uri": "https://localhost:8080/"
        },
        "id": "ZMpXyRDvRQOu",
        "outputId": "ae5c1517-63fb-489e-f551-f45fc8f10529"
      },
      "execution_count": 20,
      "outputs": [
        {
          "output_type": "stream",
          "name": "stdout",
          "text": [
            "[0.38888889 1.83333333 0.22222222]\n",
            "[0.38888889 1.83333333 0.22222222]\n"
          ]
        }
      ]
    },
    {
      "cell_type": "markdown",
      "source": [
        "16. Множення двох матриць"
      ],
      "metadata": {
        "id": "gR3WZjNJSLYW"
      }
    },
    {
      "cell_type": "code",
      "source": [
        "a = np.array([[1, 3, -4], [0, 2, -3], [-2, 2, 5]])\n",
        "b = np.array([5, 3, 4 ])\n",
        "\n",
        "np.dot(a, b)"
      ],
      "metadata": {
        "colab": {
          "base_uri": "https://localhost:8080/"
        },
        "id": "qtPtMnHZSO8R",
        "outputId": "787eb1cb-fc09-4ef7-bb5c-7791acd802ce"
      },
      "execution_count": 21,
      "outputs": [
        {
          "output_type": "execute_result",
          "data": {
            "text/plain": [
              "array([-2, -6, 16])"
            ]
          },
          "metadata": {},
          "execution_count": 21
        }
      ]
    },
    {
      "cell_type": "code",
      "source": [
        "a = np.matrix ([[1, 3, -4], [0, 2, -3]])\n",
        "b = np.matrix([[5, 3, 4], [2, 3, 5], [3, 2, 3]])\n",
        "print(a)\n",
        "print(b)\n",
        "print(np.dot(a, b))"
      ],
      "metadata": {
        "colab": {
          "base_uri": "https://localhost:8080/"
        },
        "id": "8MiTA4l1S2X6",
        "outputId": "d0640b2a-17f7-4941-fcb2-9bf031b5aa1c"
      },
      "execution_count": 24,
      "outputs": [
        {
          "output_type": "stream",
          "name": "stdout",
          "text": [
            "[[ 1  3 -4]\n",
            " [ 0  2 -3]]\n",
            "[[5 3 4]\n",
            " [2 3 5]\n",
            " [3 2 3]]\n",
            "[[-1  4  7]\n",
            " [-5  0  1]]\n",
            "[[ 1  3 -4]\n",
            " [ 0  2 -3]]\n",
            "[[5 3 4]\n",
            " [2 3 5]\n",
            " [3 2 3]]\n",
            "[[-1  4  7]\n",
            " [-5  0  1]]\n"
          ]
        }
      ]
    },
    {
      "cell_type": "markdown",
      "source": [
        "17. Транспонування матриці"
      ],
      "metadata": {
        "id": "vQ_ZsLjUTu4b"
      }
    },
    {
      "cell_type": "code",
      "source": [
        "print(a.T)\n",
        "print(b.T)"
      ],
      "metadata": {
        "colab": {
          "base_uri": "https://localhost:8080/"
        },
        "id": "y-Q__I4YTxh4",
        "outputId": "e738dea6-6abe-44fb-a26b-c4dc60656fa6"
      },
      "execution_count": 25,
      "outputs": [
        {
          "output_type": "stream",
          "name": "stdout",
          "text": [
            "[[ 1  0]\n",
            " [ 3  2]\n",
            " [-4 -3]]\n",
            "[[5 2 3]\n",
            " [3 3 2]\n",
            " [4 5 3]]\n"
          ]
        }
      ]
    },
    {
      "cell_type": "code",
      "source": [
        "print(np.transpose(a))\n",
        "print(np.transpose(b))"
      ],
      "metadata": {
        "colab": {
          "base_uri": "https://localhost:8080/"
        },
        "id": "_Cq5viLhT2Zf",
        "outputId": "d0d91a4c-2b5b-4008-b55f-f35c359496c0"
      },
      "execution_count": 27,
      "outputs": [
        {
          "output_type": "stream",
          "name": "stdout",
          "text": [
            "[[ 1  0]\n",
            " [ 3  2]\n",
            " [-4 -3]]\n",
            "[[5 2 3]\n",
            " [3 3 2]\n",
            " [4 5 3]]\n"
          ]
        }
      ]
    },
    {
      "cell_type": "markdown",
      "source": [
        "18. Перевірка симетричності матриці"
      ],
      "metadata": {
        "id": "EeEcv15ST-GE"
      }
    },
    {
      "cell_type": "code",
      "source": [
        "matrix = np.matrix([[2, 2, 2], [2, 2, 2], [2, 2, 2]])\n",
        "np.allclose(matrix, matrix.T)\n"
      ],
      "metadata": {
        "colab": {
          "base_uri": "https://localhost:8080/"
        },
        "id": "9z7CI2qrT5BJ",
        "outputId": "672a0e1c-84f5-4d67-d0fa-2d0c1ee4e0b0"
      },
      "execution_count": 28,
      "outputs": [
        {
          "output_type": "execute_result",
          "data": {
            "text/plain": [
              "True"
            ]
          },
          "metadata": {},
          "execution_count": 28
        }
      ]
    },
    {
      "cell_type": "markdown",
      "source": [
        "19. Обчислення сліду матриці"
      ],
      "metadata": {
        "id": "ADYq1DXEUtlV"
      }
    },
    {
      "cell_type": "code",
      "source": [
        "np.trace(matrix)"
      ],
      "metadata": {
        "colab": {
          "base_uri": "https://localhost:8080/"
        },
        "id": "8LXZjMM7UwsM",
        "outputId": "ecad3f16-3bb9-4fde-8b3e-a7d68245bd0c"
      },
      "execution_count": 29,
      "outputs": [
        {
          "output_type": "execute_result",
          "data": {
            "text/plain": [
              "np.int64(6)"
            ]
          },
          "metadata": {},
          "execution_count": 29
        }
      ]
    },
    {
      "cell_type": "markdown",
      "source": [
        "20. Дії з матрицями"
      ],
      "metadata": {
        "id": "hqF-6NkdU0ov"
      }
    },
    {
      "cell_type": "code",
      "source": [
        "a = np.matrix([[1, 2], [3, 4]])\n",
        "b = np.matrix([[5, 6], [7, 8]])\n",
        "\n",
        "print(np.add(a, b))\n",
        "print(np.subtract(a, b))\n",
        "print(np.multiply(a, b))\n",
        "print(np.divide(a, b))"
      ],
      "metadata": {
        "colab": {
          "base_uri": "https://localhost:8080/"
        },
        "id": "TsE0elKzU3km",
        "outputId": "f2ddf735-8a61-4f3d-e2a3-88d3a09e6609"
      },
      "execution_count": 30,
      "outputs": [
        {
          "output_type": "stream",
          "name": "stdout",
          "text": [
            "[[ 6  8]\n",
            " [10 12]]\n",
            "[[-4 -4]\n",
            " [-4 -4]]\n",
            "[[ 5 12]\n",
            " [21 32]]\n",
            "[[0.2        0.33333333]\n",
            " [0.42857143 0.5       ]]\n"
          ]
        }
      ]
    },
    {
      "cell_type": "markdown",
      "source": [
        "21. Піднесення матриці до ступення"
      ],
      "metadata": {
        "id": "ToYivdB1Vmbb"
      }
    },
    {
      "cell_type": "code",
      "source": [
        "a = np.matrix([[1, 2], [3, 4]])\n",
        "\n",
        "np.linalg.matrix_power(a, 2)"
      ],
      "metadata": {
        "colab": {
          "base_uri": "https://localhost:8080/"
        },
        "id": "DGS9I9frVpzM",
        "outputId": "32f10424-58fd-45b1-c13b-20093ed55a78"
      },
      "execution_count": 31,
      "outputs": [
        {
          "output_type": "execute_result",
          "data": {
            "text/plain": [
              "matrix([[ 7, 10],\n",
              "        [15, 22]])"
            ]
          },
          "metadata": {},
          "execution_count": 31
        }
      ]
    },
    {
      "cell_type": "markdown",
      "source": [
        "22. Сортування рядків або стовпців матриці"
      ],
      "metadata": {
        "id": "S4TooOlPWIhx"
      }
    },
    {
      "cell_type": "code",
      "source": [
        "b = np.matrix([[5, 3, 4], [2, 3, 5], [3, 2, 3]])\n",
        "\n",
        "print(b)\n",
        "print(np.sort(b, axis=0))\n",
        "print(np.sort(b, axis=1))\n",
        "print(np.sort(b, axis=None))"
      ],
      "metadata": {
        "colab": {
          "base_uri": "https://localhost:8080/"
        },
        "id": "BAg6CRRUWNrD",
        "outputId": "fd1e1dfb-8542-4640-8788-71abb0374f7b"
      },
      "execution_count": 32,
      "outputs": [
        {
          "output_type": "stream",
          "name": "stdout",
          "text": [
            "[[5 3 4]\n",
            " [2 3 5]\n",
            " [3 2 3]]\n",
            "[[2 2 3]\n",
            " [3 3 4]\n",
            " [5 3 5]]\n",
            "[[3 4 5]\n",
            " [2 3 5]\n",
            " [2 3 3]]\n",
            "[[2 2 3 3 3 3 4 5 5]]\n"
          ]
        }
      ]
    },
    {
      "cell_type": "code",
      "source": [
        "a = np.array([[1, 4], [3, 1]])\n",
        "\n",
        "print(a)\n",
        "print(np.sort(a))"
      ],
      "metadata": {
        "colab": {
          "base_uri": "https://localhost:8080/"
        },
        "id": "sFngj5jFWkO5",
        "outputId": "60fa7297-364e-4010-9153-232e6561c96a"
      },
      "execution_count": 33,
      "outputs": [
        {
          "output_type": "stream",
          "name": "stdout",
          "text": [
            "[[1 4]\n",
            " [3 1]]\n",
            "[[1 4]\n",
            " [1 3]]\n"
          ]
        }
      ]
    },
    {
      "cell_type": "code",
      "source": [
        "print(np.sort(a, axis=0))\n",
        "print(np.sort(a, axis=1))"
      ],
      "metadata": {
        "colab": {
          "base_uri": "https://localhost:8080/"
        },
        "id": "p3jf9gF-Wt2n",
        "outputId": "0a7987f3-3261-4c10-e263-3a0d00e8ed02"
      },
      "execution_count": 36,
      "outputs": [
        {
          "output_type": "stream",
          "name": "stdout",
          "text": [
            "[[1 1]\n",
            " [3 4]]\n",
            "[[1 4]\n",
            " [1 3]]\n"
          ]
        }
      ]
    },
    {
      "cell_type": "markdown",
      "source": [
        "23. Підрахувати суму елементів кожного рядка матриці"
      ],
      "metadata": {
        "id": "XDhNxvkLXJoa"
      }
    },
    {
      "cell_type": "code",
      "source": [
        "row_sums = np.sum(a, axis=1).reshape(-1, 1)\n",
        "\n",
        "print(\"Сума елементів кожного рядка: \")\n",
        "print(row_sums)"
      ],
      "metadata": {
        "colab": {
          "base_uri": "https://localhost:8080/"
        },
        "id": "vl8cN1r4W6M8",
        "outputId": "7449a977-e853-444d-8ae1-4c791810f60f"
      },
      "execution_count": 37,
      "outputs": [
        {
          "output_type": "stream",
          "name": "stdout",
          "text": [
            "Сума елементів кожного рядка: \n",
            "[[5]\n",
            " [4]]\n"
          ]
        }
      ]
    }
  ]
}