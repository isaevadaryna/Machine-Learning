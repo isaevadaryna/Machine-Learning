{
  "cells": [
    {
      "cell_type": "markdown",
      "metadata": {
        "id": "view-in-github",
        "colab_type": "text"
      },
      "source": [
        "<a href=\"https://colab.research.google.com/github/isaevadaryna/Machine-Learning/blob/main/%D0%86%D1%81%D0%B0%D1%94%D0%B2%D0%B0_%D0%94_%D0%9E_%2C_%D0%A4%D0%86%D0%A2%2C_4_9%2C_%D0%9B%D0%B0%D0%B1_1.ipynb\" target=\"_parent\"><img src=\"https://colab.research.google.com/assets/colab-badge.svg\" alt=\"Open In Colab\"/></a>"
      ]
    },
    {
      "cell_type": "code",
      "source": [
        "import numpy as np\n",
        "np.__version__"
      ],
      "metadata": {
        "colab": {
          "base_uri": "https://localhost:8080/",
          "height": 35
        },
        "id": "aOKwM4t3TfDA",
        "outputId": "68b71538-a0a8-44bc-d986-000e04d84142"
      },
      "execution_count": null,
      "outputs": [
        {
          "output_type": "execute_result",
          "data": {
            "text/plain": [
              "'2.0.2'"
            ],
            "application/vnd.google.colaboratory.intrinsic+json": {
              "type": "string"
            }
          },
          "metadata": {},
          "execution_count": 3
        }
      ]
    },
    {
      "cell_type": "markdown",
      "source": [
        "1. Створити матрицю 3*3, заповнити її випадковими числами від 1 до 5"
      ],
      "metadata": {
        "id": "Mfoa0MhwUM9w"
      }
    },
    {
      "cell_type": "code",
      "source": [
        "matrix = np.random.randint(1,6, size=(3, 3))\n",
        "\n",
        "matrix"
      ],
      "metadata": {
        "id": "rNQSVAfdUawT",
        "outputId": "155a6375-6a82-4738-9c09-a7aa75b3b976",
        "colab": {
          "base_uri": "https://localhost:8080/"
        }
      },
      "execution_count": null,
      "outputs": [
        {
          "output_type": "execute_result",
          "data": {
            "text/plain": [
              "array([[1, 3, 5],\n",
              "       [1, 5, 3],\n",
              "       [4, 5, 1]])"
            ]
          },
          "metadata": {},
          "execution_count": 5
        }
      ]
    },
    {
      "cell_type": "markdown",
      "source": [
        "2. Обчислити визначених матриці"
      ],
      "metadata": {
        "id": "J-cqqIUCUwRJ"
      }
    },
    {
      "cell_type": "code",
      "source": [
        "det = np.linalg.det(matrix)\n",
        "\n",
        "det"
      ],
      "metadata": {
        "id": "0KjYZorLU1Qf",
        "outputId": "dac1365e-bd68-4093-badf-37ecfcb028e6",
        "colab": {
          "base_uri": "https://localhost:8080/"
        }
      },
      "execution_count": null,
      "outputs": [
        {
          "output_type": "execute_result",
          "data": {
            "text/plain": [
              "np.float64(-51.999999999999986)"
            ]
          },
          "metadata": {},
          "execution_count": 6
        }
      ]
    },
    {
      "cell_type": "markdown",
      "source": [
        "3. Знайти добуток всіх елементів матриці"
      ],
      "metadata": {
        "id": "jwwIzsCSVAEn"
      }
    },
    {
      "cell_type": "code",
      "source": [
        "product = np.prod(matrix)\n",
        "product"
      ],
      "metadata": {
        "id": "QX_22kLsVDeO",
        "outputId": "1b6232e1-27a0-45db-e2ed-5a10006e0c6a",
        "colab": {
          "base_uri": "https://localhost:8080/"
        }
      },
      "execution_count": null,
      "outputs": [
        {
          "output_type": "execute_result",
          "data": {
            "text/plain": [
              "np.int64(4500)"
            ]
          },
          "metadata": {},
          "execution_count": 7
        }
      ]
    },
    {
      "cell_type": "code",
      "source": [
        "prod_1 = np.prod(matrix[0])\n",
        "prod_2 = np.prod(matrix[1])\n",
        "prod_3 = np.prod(matrix[2])\n",
        "prod_1*prod_2*prod_3"
      ],
      "metadata": {
        "id": "_alTCtzLVKQi",
        "outputId": "716a7ff3-babb-4ba8-9132-30f862b28bf0",
        "colab": {
          "base_uri": "https://localhost:8080/"
        }
      },
      "execution_count": null,
      "outputs": [
        {
          "output_type": "execute_result",
          "data": {
            "text/plain": [
              "np.int64(4500)"
            ]
          },
          "metadata": {},
          "execution_count": 8
        }
      ]
    },
    {
      "cell_type": "markdown",
      "source": [
        "4. Знайти суму всіх елементів матриці"
      ],
      "metadata": {
        "id": "LVAjUVJJViwZ"
      }
    },
    {
      "cell_type": "code",
      "source": [
        "sum = np.sum(matrix)\n",
        "\n",
        "sum"
      ],
      "metadata": {
        "id": "dxh0IH4OVmUr",
        "outputId": "977a9b74-3d9c-496b-c970-127f0982367d",
        "colab": {
          "base_uri": "https://localhost:8080/"
        }
      },
      "execution_count": null,
      "outputs": [
        {
          "output_type": "execute_result",
          "data": {
            "text/plain": [
              "np.int64(28)"
            ]
          },
          "metadata": {},
          "execution_count": 9
        }
      ]
    },
    {
      "cell_type": "markdown",
      "source": [
        "5. Обчислення найбільших, найменьших елементів"
      ],
      "metadata": {
        "id": "vLU2oIFjV2nb"
      }
    },
    {
      "cell_type": "code",
      "source": [
        "max_element = np.max(matrix)\n",
        "\n",
        "print(\"Найбільший елемент матриці: \", max_element)\n",
        "\n",
        "min_element = np.min(matrix)\n",
        "\n",
        "print(\"Найменьший елемент матриці: \", min_element)"
      ],
      "metadata": {
        "id": "XiRIA3tDV_sA",
        "outputId": "e9e929f9-1f68-4f7f-f957-25a859675f56",
        "colab": {
          "base_uri": "https://localhost:8080/"
        }
      },
      "execution_count": null,
      "outputs": [
        {
          "output_type": "stream",
          "name": "stdout",
          "text": [
            "Найбільший елемент матриці:  5\n",
            "Найменьший елемент матриці:  1\n"
          ]
        }
      ]
    },
    {
      "cell_type": "markdown",
      "source": [
        "6. Знайти середнє значення елементів матриці"
      ],
      "metadata": {
        "id": "R9KkhYxfWejr"
      }
    },
    {
      "cell_type": "code",
      "source": [
        "mean = np.mean(matrix)\n",
        "\n",
        "print(\"Середнє значення елементів матриці: \", mean)"
      ],
      "metadata": {
        "id": "HP7T2aqQWkCb",
        "outputId": "6f483a23-2531-4395-960b-4fb9c571b780",
        "colab": {
          "base_uri": "https://localhost:8080/"
        }
      },
      "execution_count": null,
      "outputs": [
        {
          "output_type": "stream",
          "name": "stdout",
          "text": [
            "Середнє значення елементів матриці:  3.111111111111111\n"
          ]
        }
      ]
    },
    {
      "cell_type": "markdown",
      "source": [
        "7. Знайти матрицю, що складена з квадратних коренів"
      ],
      "metadata": {
        "id": "SBc3AJw0XRTe"
      }
    },
    {
      "cell_type": "code",
      "source": [
        "sqrt_matrix = np.sqrt(matrix)\n",
        "\n",
        "print(\"Матриця квадратних коренів:\")\n",
        "print(sqrt_matrix)"
      ],
      "metadata": {
        "id": "XwZCy3UeXaSC",
        "outputId": "351c2dde-6561-44b9-ae84-8004f9ba60b3",
        "colab": {
          "base_uri": "https://localhost:8080/"
        }
      },
      "execution_count": null,
      "outputs": [
        {
          "output_type": "stream",
          "name": "stdout",
          "text": [
            "Матриця квадратних коренів:\n",
            "[[1.         1.73205081 2.23606798]\n",
            " [1.         2.23606798 1.73205081]\n",
            " [2.         2.23606798 1.        ]]\n"
          ]
        }
      ]
    },
    {
      "cell_type": "markdown",
      "source": [
        "8. Обчислити суму елементиів кожного рядка."
      ],
      "metadata": {
        "id": "XrFeJNIdYA6Z"
      }
    },
    {
      "cell_type": "code",
      "source": [
        "row_sums = np.sum(matrix, axis=1).reshape(-1, 1)\n",
        "\n",
        "print(\"Сума елементів кожного рядка: \")\n",
        "print(row_sums)"
      ],
      "metadata": {
        "id": "5qaOVDI0YGkK",
        "outputId": "fb079a0b-eecf-475b-c9cf-eaee340bf846",
        "colab": {
          "base_uri": "https://localhost:8080/"
        }
      },
      "execution_count": null,
      "outputs": [
        {
          "output_type": "stream",
          "name": "stdout",
          "text": [
            "Сума елементів кожного рядка: \n",
            "[[ 9]\n",
            " [ 9]\n",
            " [10]]\n"
          ]
        }
      ]
    },
    {
      "cell_type": "markdown",
      "source": [
        "9. Створити вектор, що містить 25 елементів. Заповнити числами від 0 до 9. Відсортувати за спаданням."
      ],
      "metadata": {
        "id": "1xDpXzLjYi0a"
      }
    },
    {
      "cell_type": "code",
      "source": [
        "vector = np.random.randint(0, 10, size=25)\n",
        "\n",
        "print(\"Початковий вектор: \")\n",
        "print(vector)\n",
        "\n",
        "#Сортування за спаданням\n",
        "sorted_vector = np.sort(vector)[::-1]\n",
        "print(\"Ветор після сортування: \")\n",
        "print(sorted_vector)"
      ],
      "metadata": {
        "id": "Cfso4i_IYtcs",
        "outputId": "7d9a8eb3-3236-4f1f-cdd5-2b4e3d981d22",
        "colab": {
          "base_uri": "https://localhost:8080/"
        }
      },
      "execution_count": null,
      "outputs": [
        {
          "output_type": "stream",
          "name": "stdout",
          "text": [
            "Початковий вектор: \n",
            "[4 6 3 2 2 3 0 8 4 9 9 9 0 2 6 4 2 8 9 9 7 1 5 9 5]\n",
            "Ветор після сортування: \n",
            "[9 9 9 9 9 9 8 8 7 6 6 5 5 4 4 4 3 3 2 2 2 2 1 0 0]\n"
          ]
        }
      ]
    },
    {
      "cell_type": "markdown",
      "source": [
        "10. Знайти моду, медіану, середнє, максимальне, мінімальне значення"
      ],
      "metadata": {
        "id": "Bo9TEb69ZUzx"
      }
    },
    {
      "cell_type": "code",
      "source": [
        "from scipy import stats\n",
        "#Знаходимо моду\n",
        "mode = stats.mode(vector)\n",
        "\n",
        "#Знаходимо медіану\n",
        "median = np.median(vector)\n",
        "\n",
        "#Знаходимо середнє\n",
        "mean = np.mean(vector)\n",
        "\n",
        "#Знаходимо максимальне значення\n",
        "max_value = np.max(vector)\n",
        "\n",
        "#Знаходимо мінімальне значення\n",
        "min_value = np.min(vector)\n",
        "\n",
        "print(\"Мода: \",mode)\n",
        "print(\"Медіана: \", median)\n",
        "print(\"Середнє: \", mean)\n",
        "print(\"Максимальне значення: \", max_value)\n",
        "print(\"Мінімальне значення: \", min_value)"
      ],
      "metadata": {
        "id": "HWnYEG1oZcTi",
        "outputId": "01a86253-a15c-48f8-aaa0-7df410c3715c",
        "colab": {
          "base_uri": "https://localhost:8080/"
        }
      },
      "execution_count": null,
      "outputs": [
        {
          "output_type": "stream",
          "name": "stdout",
          "text": [
            "Мода:  ModeResult(mode=np.int64(9), count=np.int64(6))\n",
            "Медіана:  5.0\n",
            "Середнє:  5.04\n",
            "Максимальне значення:  9\n",
            "Мінімальне значення:  0\n"
          ]
        }
      ]
    },
    {
      "cell_type": "markdown",
      "source": [
        "11. Створити дві матриці 4*4, зопвнена числами від 1 до 10ю Обчислити суму, різницю, поелементний добуток, часткую"
      ],
      "metadata": {
        "id": "NkyVP3GHavv1"
      }
    },
    {
      "cell_type": "code",
      "source": [
        "matrix1 = np.random.randint(1, 11, size=(4, 4))\n",
        "matrix2 = np.random.randint(1, 11, size=(4, 4))\n",
        "\n",
        "print(\"Матриця 1: \")\n",
        "print(matrix1)\n",
        "\n",
        "print(\"\\nМатриця 2: \")\n",
        "print(matrix2)\n",
        "\n"
      ],
      "metadata": {
        "id": "qShCkRyTZtz9",
        "outputId": "2687e9f2-00d0-4e9f-bce6-c3c019331c50",
        "colab": {
          "base_uri": "https://localhost:8080/"
        }
      },
      "execution_count": null,
      "outputs": [
        {
          "output_type": "stream",
          "name": "stdout",
          "text": [
            "Матриця 1: \n",
            "[[10  8 10  8]\n",
            " [ 4  2  3  4]\n",
            " [ 6  1  2  7]\n",
            " [10  8  6  9]]\n",
            "\n",
            "Матриця 2: \n",
            "[[7 8 2 9]\n",
            " [9 8 6 4]\n",
            " [3 7 1 2]\n",
            " [2 1 7 7]]\n"
          ]
        }
      ]
    },
    {
      "cell_type": "code",
      "source": [
        "#Обчислити суму матриць\n",
        "matrix_sum = matrix1 + matrix2\n",
        "\n",
        "#Обчислити різницю матриць\n",
        "matrix_diff = matrix1 - matrix2\n",
        "\n",
        "#Обчислити поелементний доьуток мматриць\n",
        "matrix_division = np.divide(matrix1, matrix2, where=(matrix2!=0))\n",
        "\n",
        "print(\"\\nСума матрицю: \")\n",
        "print(matrix_sum)\n",
        "\n",
        "print(\"\\nРізниця матриць: \")\n",
        "print(matrix_diff)\n",
        "\n",
        "print(\"\\nПоелементний добуток матриць: \")\n",
        "print(matrix_division)"
      ],
      "metadata": {
        "id": "DvDfSn3sbaVq",
        "outputId": "fb30806c-76d5-46f4-eb60-2c8ae07b0372",
        "colab": {
          "base_uri": "https://localhost:8080/"
        }
      },
      "execution_count": null,
      "outputs": [
        {
          "output_type": "stream",
          "name": "stdout",
          "text": [
            "\n",
            "Сума матрицю: \n",
            "[[17 16 12 17]\n",
            " [13 10  9  8]\n",
            " [ 9  8  3  9]\n",
            " [12  9 13 16]]\n",
            "\n",
            "Різниця матриць: \n",
            "[[ 3  0  8 -1]\n",
            " [-5 -6 -3  0]\n",
            " [ 3 -6  1  5]\n",
            " [ 8  7 -1  2]]\n",
            "\n",
            "Поелементний добуток матриць: \n",
            "[[1.42857143 1.         5.         0.88888889]\n",
            " [0.44444444 0.25       0.5        1.        ]\n",
            " [2.         0.14285714 2.         3.5       ]\n",
            " [5.         8.         0.85714286 1.28571429]]\n"
          ]
        }
      ]
    },
    {
      "cell_type": "markdown",
      "source": [
        "12. Завдати вектор-рядок, що містить дійсні числа 1.0 - 8.0. Зробити матрицю 3*3. Помножити на вектор-рядок, що міститьб числа 0.0-2.0"
      ],
      "metadata": {
        "id": "Yl8zK9wbcttM"
      }
    },
    {
      "cell_type": "code",
      "source": [
        "x = np.arange(9.0)\n",
        "x"
      ],
      "metadata": {
        "id": "jde6iwhndBJO",
        "outputId": "ea864812-a660-4971-99b5-1db00ea83c1e",
        "colab": {
          "base_uri": "https://localhost:8080/"
        }
      },
      "execution_count": null,
      "outputs": [
        {
          "output_type": "execute_result",
          "data": {
            "text/plain": [
              "array([0., 1., 2., 3., 4., 5., 6., 7., 8.])"
            ]
          },
          "metadata": {},
          "execution_count": 23
        }
      ]
    },
    {
      "cell_type": "code",
      "source": [
        "x1 = x.reshape(3, 3)\n",
        "x1"
      ],
      "metadata": {
        "id": "0vnvQG2TdHSq",
        "outputId": "05042000-f932-4461-ead0-1cdcc1f52642",
        "colab": {
          "base_uri": "https://localhost:8080/"
        }
      },
      "execution_count": null,
      "outputs": [
        {
          "output_type": "execute_result",
          "data": {
            "text/plain": [
              "array([[0., 1., 2.],\n",
              "       [3., 4., 5.],\n",
              "       [6., 7., 8.]])"
            ]
          },
          "metadata": {},
          "execution_count": 24
        }
      ]
    },
    {
      "cell_type": "code",
      "source": [
        "x2 = np.arange(3.0)\n",
        "x2"
      ],
      "metadata": {
        "id": "vlce8rhDdMES",
        "outputId": "329d57dc-a945-4ade-fca9-3431bfdd27a5",
        "colab": {
          "base_uri": "https://localhost:8080/"
        }
      },
      "execution_count": null,
      "outputs": [
        {
          "output_type": "execute_result",
          "data": {
            "text/plain": [
              "array([0., 1., 2.])"
            ]
          },
          "metadata": {},
          "execution_count": 26
        }
      ]
    }
  ],
  "metadata": {
    "colab": {
      "provenance": [],
      "include_colab_link": true
    },
    "kernelspec": {
      "display_name": "Python 3",
      "name": "python3"
    }
  },
  "nbformat": 4,
  "nbformat_minor": 0
}